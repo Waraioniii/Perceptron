{
 "cells": [
  {
   "cell_type": "code",
   "execution_count": 21,
   "id": "8d965c35",
   "metadata": {},
   "outputs": [
    {
     "name": "stdout",
     "output_type": "stream",
     "text": [
      "AND(0, 1) = 0\n",
      "AND(1, 1) = 1\n",
      "AND(0, 0) = 0\n",
      "AND(1, 0) = 0\n"
     ]
    }
   ],
   "source": [
    " import numpy as np \n",
    "  \n",
    "# Применение функции активации (в данном случае, пороговая функция)\n",
    "def unitStep(v): \n",
    "    if v >= 0: \n",
    "        return 1\n",
    "    else: \n",
    "        return 0\n",
    "  \n",
    "# Наша модель \n",
    "def Model(x, w, b): \n",
    "    v = np.dot(w, x) + b \n",
    "    y = unitStep(v) \n",
    "    return y \n",
    "  \n",
    "# Логическая операция И(AND)  \n",
    "# w1 = 1, w2 = 1, b = -1.5 \n",
    "def AND_logicFunction(x): \n",
    "    w = np.array([1, 1]) \n",
    "    b = -1.5\n",
    "    return Model(x, w, b) \n",
    "  \n",
    "# тест нашей модели \n",
    "test1 = np.array([0, 1]) \n",
    "test2 = np.array([1, 1]) \n",
    "test3 = np.array([0, 0]) \n",
    "test4 = np.array([1, 0]) \n",
    "  \n",
    "print(\"AND({}, {}) = {}\".format(0, 1, AND_logicFunction(test1))) \n",
    "print(\"AND({}, {}) = {}\".format(1, 1, AND_logicFunction(test2))) \n",
    "print(\"AND({}, {}) = {}\".format(0, 0, AND_logicFunction(test3))) \n",
    "print(\"AND({}, {}) = {}\".format(1, 0, AND_logicFunction(test4))) "
   ]
  },
  {
   "cell_type": "code",
   "execution_count": null,
   "id": "d51f4626",
   "metadata": {},
   "outputs": [],
   "source": []
  },
  {
   "cell_type": "code",
   "execution_count": null,
   "id": "92c269af",
   "metadata": {},
   "outputs": [],
   "source": []
  }
 ],
 "metadata": {
  "kernelspec": {
   "display_name": "Python 3 (ipykernel)",
   "language": "python",
   "name": "python3"
  },
  "language_info": {
   "codemirror_mode": {
    "name": "ipython",
    "version": 3
   },
   "file_extension": ".py",
   "mimetype": "text/x-python",
   "name": "python",
   "nbconvert_exporter": "python",
   "pygments_lexer": "ipython3",
   "version": "3.9.13"
  }
 },
 "nbformat": 4,
 "nbformat_minor": 5
}
